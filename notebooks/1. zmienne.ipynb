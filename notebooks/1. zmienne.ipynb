{
 "cells": [
  {
   "cell_type": "markdown",
   "metadata": {},
   "source": [
    "# Zmienne"
   ]
  },
  {
   "cell_type": "markdown",
   "metadata": {},
   "source": [
    "![bucket](variable-bucket.jpg)\n"
   ]
  },
  {
   "cell_type": "code",
   "execution_count": null,
   "metadata": {},
   "outputs": [],
   "source": [
    "x = 2"
   ]
  },
  {
   "cell_type": "markdown",
   "metadata": {
    "pycharm": {
     "name": "#%% md\n"
    }
   },
   "source": [
    "![variable](variable.jpg)"
   ]
  },
  {
   "cell_type": "code",
   "execution_count": null,
   "metadata": {},
   "outputs": [],
   "source": [
    "x"
   ]
  },
  {
   "cell_type": "code",
   "execution_count": null,
   "metadata": {
    "pycharm": {
     "name": "#%%\n"
    }
   },
   "outputs": [],
   "source": [
    "raw_age = input(\"podaj proszę wiek:\")\n",
    "age = int(raw_age)\n",
    "\n",
    "print('twój wiek to', age)"
   ]
  },
  {
   "cell_type": "markdown",
   "metadata": {},
   "source": [
    "![kostka](kostka_edukacyjna.jpg)\n"
   ]
  },
  {
   "cell_type": "code",
   "execution_count": null,
   "metadata": {},
   "outputs": [],
   "source": [
    "integer = 20\n",
    "real = 1.0\n",
    "string = \"ala ma kota\""
   ]
  },
  {
   "cell_type": "code",
   "execution_count": null,
   "metadata": {},
   "outputs": [],
   "source": [
    "integer = 20\n",
    "real = 1.0\n",
    "string = \"ala ma kota\""
   ]
  },
  {
   "cell_type": "code",
   "execution_count": null,
   "metadata": {},
   "outputs": [],
   "source": [
    "a = 20 + 20\n",
    "b = 20.12 + 20.0\n",
    "c = \"ala\" + \"ma\" + \"kota\"\n",
    "\n",
    "print(\"a =\", a)\n",
    "print(\"b =\", b)\n",
    "print(\"c =\", c)"
   ]
  },
  {
   "cell_type": "code",
   "execution_count": null,
   "metadata": {},
   "outputs": [],
   "source": [
    "integer = 20\n",
    "sentence = \"ala ma kota\"\n",
    "integer + sentence"
   ]
  },
  {
   "cell_type": "code",
   "execution_count": null,
   "metadata": {},
   "outputs": [],
   "source": [
    "print(\"(dodawanie) 10 + 10 =\", 10 + 10)\n",
    "print(\"(odejmowanie) 10 - 10 =\", 10 - 10)\n",
    "print(\"(mnożenie) 20 * 20 =\", 20 * 20)\n",
    "print(\"(potęgowanie) 2 ** 3 =\", 2 ** 3)\n",
    "print(\"(dzielenie) 3 / 4 =\", 3 / 4)\n",
    "print(\"(dzielnie całkowite) 7 // 4 =\", 7 // 4)\n",
    "print(\"(reszta z dzielenia tzw dzielenie modulo) 7 % 4 =\", 7 % 4)"
   ]
  },
  {
   "cell_type": "code",
   "execution_count": null,
   "metadata": {},
   "outputs": [],
   "source": [
    "a = 8\n",
    "a += 2\n",
    "print(\"a =\", a)"
   ]
  },
  {
   "cell_type": "code",
   "execution_count": null,
   "metadata": {},
   "outputs": [],
   "source": [
    "a = 8\n",
    "a *= 2\n",
    "print(\"a =\", a)"
   ]
  },
  {
   "cell_type": "code",
   "execution_count": null,
   "metadata": {},
   "outputs": [],
   "source": [
    "raw_weight = input(\"podaj proszę wagę [kg]:\")\n",
    "raw_height = input(\"podaj proszę wzrost [cm]:\")\n",
    "\n",
    "weight = float(raw_weight)\n",
    "height = float(raw_height)\n",
    "meters_height = height / 100\n",
    "\n",
    "bmi = weight / meters_height ** 2\n",
    "bmi_round = round(bmi, 2)\n",
    "print(\"BMI to:\", bmi_round)"
   ]
  },
  {
   "cell_type": "markdown",
   "metadata": {},
   "source": [
    "### Zadanie nr. 1\n",
    "Na podstawie wcześniejszych przykładach, napisz program który poprosi o **kwotę produktu** oraz wyświetli **podatek VAT** _(23%)_ z tego produktu. "
   ]
  },
  {
   "cell_type": "code",
   "execution_count": null,
   "metadata": {},
   "outputs": [],
   "source": []
  },
  {
   "cell_type": "markdown",
   "metadata": {},
   "source": [
    "### Zadanie nr. 2\n",
    "Nasz znajomy prowadzi sklep z płotami dla ogrodów. Napisz dla niego program, który na podstawie podanej **długości płota** (w metrach) obliczy ile potrzeba **sztachet**.\n",
    "\n",
    "* możesz założyć na początku, że rozmiar 1 sztachety to 15cm, a później dopisać pobieranie parametru\n",
    "* pamiętaj o tym, że rozmiar sztachety jest podany w centrymetrach, a długość płotu w metrach\n",
    "* zignoruj odstępy między sztachetami\n",
    "* do zaokrąglenia w doł jest funkcja `ceil(x)`"
   ]
  },
  {
   "cell_type": "code",
   "execution_count": null,
   "metadata": {},
   "outputs": [],
   "source": []
  },
  {
   "cell_type": "markdown",
   "metadata": {},
   "source": [
    "### Zadanie nr. 3\n",
    "Mamy w posiadaniu wiele basenów. Napisz program, który na podstawie podanych rozmiarów w programie obliczy ile litrów wody potrzeba by zapełnić basen.\n",
    "\n",
    "![basen](basen.png)\n",
    "\n",
    "Wzór:\n",
    "\n",
    "\\begin{align}\n",
    "Ob & = \\frac{(d_0 + d_1) \\cdot w \\cdot h}{2} \\\\\n",
    "\\end{align}\n",
    "\n",
    "Gdzie:\n",
    "\n",
    "* _w_ - szerokość basenu\n",
    "* _h_ - długość basenu\n",
    "* _d0_ - głębokość na początku basenu\n",
    "* _d1_ - głębokość na końcu basenu\n",
    "\n",
    "Pamiętaj o:\n",
    "\n",
    "* objętość jest podana w litrach _(l)_, czyli _dm³_ (_1dm³ = 0.001m³_)\n",
    "* rozmiary basenu są podane w metrach (_m³ = 1000dm³ = 1000l_)"
   ]
  },
  {
   "cell_type": "code",
   "execution_count": null,
   "metadata": {},
   "outputs": [],
   "source": []
  }
 ],
 "metadata": {
  "kernelspec": {
   "display_name": "Python 3",
   "language": "python",
   "name": "python3"
  },
  "language_info": {
   "codemirror_mode": {
    "name": "ipython",
    "version": 3
   },
   "file_extension": ".py",
   "mimetype": "text/x-python",
   "name": "python",
   "nbconvert_exporter": "python",
   "pygments_lexer": "ipython3",
   "version": "3.6.9"
  }
 },
 "nbformat": 4,
 "nbformat_minor": 4
}
