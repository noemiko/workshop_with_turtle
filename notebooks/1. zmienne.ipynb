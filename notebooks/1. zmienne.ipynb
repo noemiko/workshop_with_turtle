{
 "cells": [
  {
   "cell_type": "code",
   "execution_count": 1,
   "metadata": {},
   "outputs": [],
   "source": [
    "x = 2 + 2"
   ]
  },
  {
   "cell_type": "code",
   "execution_count": 2,
   "metadata": {},
   "outputs": [
    {
     "data": {
      "text/plain": [
       "4"
      ]
     },
     "execution_count": 2,
     "metadata": {},
     "output_type": "execute_result"
    }
   ],
   "source": [
    "x"
   ]
  },
  {
   "cell_type": "code",
   "execution_count": 3,
   "metadata": {},
   "outputs": [
    {
     "name": "stdout",
     "output_type": "stream",
     "text": [
      "podaj proszę wiek:20\n",
      "twój wiek to 20\n"
     ]
    }
   ],
   "source": [
    "raw_age = input(\"podaj proszę wiek:\")\n",
    "age = int(raw_age)\n",
    "\n",
    "print('twój wiek to', age)"
   ]
  },
  {
   "cell_type": "code",
   "execution_count": 4,
   "metadata": {},
   "outputs": [],
   "source": [
    "integer = 20\n",
    "real = 1.0\n",
    "string = \"ala ma kota\""
   ]
  },
  {
   "cell_type": "code",
   "execution_count": 6,
   "metadata": {},
   "outputs": [
    {
     "name": "stdout",
     "output_type": "stream",
     "text": [
      "a = 40\n",
      "b = 40.120000000000005\n",
      "c = alamakota\n"
     ]
    }
   ],
   "source": [
    "a = 20 + 20\n",
    "b = 20.12 + 20.0\n",
    "c = \"ala\" + \"ma\" + \"kota\"\n",
    "\n",
    "print(\"a =\", a)\n",
    "print(\"b =\", b)\n",
    "print(\"c =\", c)"
   ]
  },
  {
   "cell_type": "code",
   "execution_count": 7,
   "metadata": {},
   "outputs": [
    {
     "ename": "TypeError",
     "evalue": "unsupported operand type(s) for +: 'int' and 'str'",
     "output_type": "error",
     "traceback": [
      "\u001b[0;31m---------------------------------------------------------------------------\u001b[0m",
      "\u001b[0;31mTypeError\u001b[0m                                 Traceback (most recent call last)",
      "\u001b[0;32m<ipython-input-7-94665fbbcff1>\u001b[0m in \u001b[0;36m<module>\u001b[0;34m\u001b[0m\n\u001b[1;32m      1\u001b[0m \u001b[0minteger\u001b[0m \u001b[0;34m=\u001b[0m \u001b[0;36m20\u001b[0m\u001b[0;34m\u001b[0m\u001b[0;34m\u001b[0m\u001b[0m\n\u001b[1;32m      2\u001b[0m \u001b[0msentence\u001b[0m \u001b[0;34m=\u001b[0m \u001b[0;34m\"ala ma kota\"\u001b[0m\u001b[0;34m\u001b[0m\u001b[0;34m\u001b[0m\u001b[0m\n\u001b[0;32m----> 3\u001b[0;31m \u001b[0minteger\u001b[0m \u001b[0;34m+\u001b[0m \u001b[0msentence\u001b[0m\u001b[0;34m\u001b[0m\u001b[0;34m\u001b[0m\u001b[0m\n\u001b[0m",
      "\u001b[0;31mTypeError\u001b[0m: unsupported operand type(s) for +: 'int' and 'str'"
     ]
    }
   ],
   "source": [
    "integer = 20\n",
    "sentence = \"ala ma kota\"\n",
    "integer + sentence"
   ]
  },
  {
   "cell_type": "code",
   "execution_count": 9,
   "metadata": {},
   "outputs": [
    {
     "name": "stdout",
     "output_type": "stream",
     "text": [
      "(dodawanie) 10 + 10 = 20\n",
      "(odejmowanie) 10 - 10 = 0\n",
      "(mnożenie) 20 * 20 = 400\n",
      "(potęgowanie) 2 ** 3 = 8\n",
      "(dzielenie) 3 / 4 = 0.75\n",
      "(dzielnie całkowite) 7 // 4 = 1\n",
      "(reszta z dzielenia tzw dzielenie modulo) 7 % 4 = 3\n"
     ]
    }
   ],
   "source": [
    "print(\"(dodawanie) 10 + 10 =\", 10 + 10)\n",
    "print(\"(odejmowanie) 10 - 10 =\", 10 - 10)\n",
    "print(\"(mnożenie) 20 * 20 =\", 20 * 20)\n",
    "print(\"(potęgowanie) 2 ** 3 =\", 2 ** 3)\n",
    "print(\"(dzielenie) 3 / 4 =\", 3 / 4)\n",
    "print(\"(dzielnie całkowite) 7 // 4 =\", 7 // 4)\n",
    "print(\"(reszta z dzielenia tzw dzielenie modulo) 7 % 4 =\", 7 % 4)"
   ]
  },
  {
   "cell_type": "code",
   "execution_count": 17,
   "metadata": {},
   "outputs": [
    {
     "name": "stdout",
     "output_type": "stream",
     "text": [
      "a = 10\n"
     ]
    }
   ],
   "source": [
    "a = 8\n",
    "a += 2\n",
    "print(\"a =\", a)"
   ]
  },
  {
   "cell_type": "code",
   "execution_count": 18,
   "metadata": {},
   "outputs": [
    {
     "name": "stdout",
     "output_type": "stream",
     "text": [
      "a = 16\n"
     ]
    }
   ],
   "source": [
    "a = 8\n",
    "a *= 2\n",
    "print(\"a =\", a)"
   ]
  },
  {
   "cell_type": "code",
   "execution_count": 14,
   "metadata": {},
   "outputs": [
    {
     "name": "stdout",
     "output_type": "stream",
     "text": [
      "podaj proszę wagę [kg]:80\n",
      "podaj proszę wzrost [cm]:170\n",
      "BMI to: 27.68\n"
     ]
    }
   ],
   "source": [
    "raw_weight = input(\"podaj proszę wagę [kg]:\")\n",
    "raw_height = input(\"podaj proszę wzrost [cm]:\")\n",
    "\n",
    "weight = float(raw_weight)\n",
    "height = float(raw_height)\n",
    "meters_height = height / 100\n",
    "\n",
    "bmi = weight / meters_height ** 2\n",
    "bmi_round = round(bmi, 2)\n",
    "print(\"BMI to:\", bmi_round)"
   ]
  },
  {
   "cell_type": "code",
   "execution_count": null,
   "metadata": {},
   "outputs": [],
   "source": [
    "# zadanie easy - policzenie VAT (23%) z kwoty produktu\n",
    "# zadanie mid - ile należy kupić sztachet znając długość płotu oraz szerokość sztachety\n",
    "# zadanie hard - https://www.megamatma.pl/klasowki/podstawowka-klasowki/bryly-zadania-2/klasowka-siatki-bryl zad5"
   ]
  }
 ],
 "metadata": {
  "kernelspec": {
   "display_name": "Python 3",
   "language": "python",
   "name": "python3"
  },
  "language_info": {
   "codemirror_mode": {
    "name": "ipython",
    "version": 3
   },
   "file_extension": ".py",
   "mimetype": "text/x-python",
   "name": "python",
   "nbconvert_exporter": "python",
   "pygments_lexer": "ipython3",
   "version": "3.7.5"
  }
 },
 "nbformat": 4,
 "nbformat_minor": 4
}
