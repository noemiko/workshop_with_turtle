{
 "cells": [
  {
   "cell_type": "code",
   "execution_count": 1,
   "metadata": {},
   "outputs": [
    {
     "data": {
      "application/vnd.jupyter.widget-view+json": {
       "model_id": "3c5af3977dc04bcbb6099d22b47f4a7e",
       "version_major": 2,
       "version_minor": 0
      },
      "text/plain": [
       "Turtle()"
      ]
     },
     "metadata": {},
     "output_type": "display_data"
    }
   ],
   "source": [
    "# MAGICZNE ZAKLECIE\n",
    "from tturtle import turtle\n",
    "from random import randint\n",
    "turtle"
   ]
  },
  {
   "cell_type": "markdown",
   "metadata": {},
   "source": [
    "### Zadanie, które zrobisz po tym module"
   ]
  },
  {
   "cell_type": "markdown",
   "metadata": {},
   "source": [
    "## 3. Narysuj żółwikiem swoje imię i obrysuj ramką"
   ]
  },
  {
   "cell_type": "markdown",
   "metadata": {},
   "source": [
    "# Pętle"
   ]
  },
  {
   "cell_type": "markdown",
   "metadata": {},
   "source": [
    "![while](images/while.jpeg)\n"
   ]
  },
  {
   "cell_type": "markdown",
   "metadata": {},
   "source": [
    "## Powtarzanie czynności (pętle)"
   ]
  },
  {
   "cell_type": "code",
   "execution_count": null,
   "metadata": {},
   "outputs": [],
   "source": [
    "print(\"Nie będę przeszkadzać na lekcji\")\n",
    "print(\"Nie będę przeszkadzać na lekcji\")\n",
    "print(\"Nie będę przeszkadzać na lekcji\")\n",
    "print(\"Nie będę przeszkadzać na lekcji\")\n",
    "print(\"Nie będę przeszkadzać na lekcji\")"
   ]
  },
  {
   "cell_type": "code",
   "execution_count": null,
   "metadata": {},
   "outputs": [],
   "source": [
    "for i in range(5):\n",
    "    print(\"Nie będę przeszkadzać na lekcji\")"
   ]
  },
  {
   "cell_type": "code",
   "execution_count": null,
   "metadata": {
    "scrolled": true
   },
   "outputs": [],
   "source": [
    "for i in range(5):\n",
    "    print(\"nr\", i)"
   ]
  },
  {
   "cell_type": "markdown",
   "metadata": {},
   "source": [
    "## Zadanie nr 3a\n",
    "1. Pobierz imie (funkcja input)\n",
    "2. Wyswietl imie 10 razy\n",
    "3. Jak skończysz, napisz na czacie **ZROBIONE**"
   ]
  },
  {
   "cell_type": "code",
   "execution_count": null,
   "metadata": {},
   "outputs": [],
   "source": []
  },
  {
   "cell_type": "markdown",
   "metadata": {},
   "source": [
    "## Rysowanie"
   ]
  },
  {
   "cell_type": "code",
   "execution_count": null,
   "metadata": {},
   "outputs": [],
   "source": [
    "turtle.forward(20)"
   ]
  },
  {
   "cell_type": "code",
   "execution_count": null,
   "metadata": {},
   "outputs": [],
   "source": [
    "turtle.reset()\n",
    "\n",
    "turtle.forward(100)"
   ]
  },
  {
   "cell_type": "code",
   "execution_count": null,
   "metadata": {},
   "outputs": [],
   "source": [
    "turtle.reset()\n",
    "\n",
    "turtle.back(100)"
   ]
  },
  {
   "cell_type": "code",
   "execution_count": null,
   "metadata": {},
   "outputs": [],
   "source": [
    "turtle.reset()\n",
    "\n",
    "turtle.forward(100)\n",
    "turtle.right(90)\n",
    "turtle.forward(100)"
   ]
  },
  {
   "cell_type": "code",
   "execution_count": null,
   "metadata": {},
   "outputs": [],
   "source": [
    "turtle.reset()\n",
    "\n",
    "turtle.forward(100)\n",
    "turtle.left(90)\n",
    "turtle.forward(100)"
   ]
  },
  {
   "cell_type": "markdown",
   "metadata": {},
   "source": [
    "![siatka](images/siatka.jpg)"
   ]
  },
  {
   "cell_type": "code",
   "execution_count": null,
   "metadata": {},
   "outputs": [],
   "source": [
    "turtle.reset()\n",
    "\n",
    "turtle.goto(-100, -100)\n",
    "turtle.forward(100)"
   ]
  },
  {
   "cell_type": "code",
   "execution_count": null,
   "metadata": {},
   "outputs": [],
   "source": [
    "turtle.reset()\n",
    "\n",
    "turtle.forward(50)\n",
    "turtle.penup()\n",
    "turtle.forward(50)\n",
    "turtle.pendown()\n",
    "turtle.forward(50)"
   ]
  },
  {
   "cell_type": "code",
   "execution_count": null,
   "metadata": {},
   "outputs": [],
   "source": [
    "turtle.reset()\n",
    "\n",
    "turtle.forward(100)\n",
    "turtle.right(90)\n",
    "turtle.forward(100)\n",
    "turtle.right(90)\n",
    "turtle.forward(100)\n",
    "turtle.right(90)\n",
    "turtle.forward(100)\n",
    "turtle.right(90)"
   ]
  },
  {
   "cell_type": "code",
   "execution_count": null,
   "metadata": {},
   "outputs": [],
   "source": [
    "turtle.reset()"
   ]
  },
  {
   "cell_type": "code",
   "execution_count": null,
   "metadata": {},
   "outputs": [],
   "source": [
    "turtle.reset()\n",
    "for i in range(4):\n",
    "    turtle.forward(100)\n",
    "    turtle.right(90)"
   ]
  },
  {
   "cell_type": "code",
   "execution_count": null,
   "metadata": {},
   "outputs": [],
   "source": [
    "turtle.reset()\n",
    "turtle.goto(-100, -100)\n",
    "for i in range(3):\n",
    "    turtle.forward(100)\n",
    "    turtle.right(120)"
   ]
  },
  {
   "cell_type": "markdown",
   "metadata": {},
   "source": [
    "## Zadanie 3b - narysuj litere Z\n",
    "## Zadanie 3c - narysuj litere A\n",
    "## Zadanie z gwiazdką - narysuj strzałkę\n",
    "![arrow](images/arrow.jpg)"
   ]
  },
  {
   "cell_type": "code",
   "execution_count": null,
   "metadata": {},
   "outputs": [],
   "source": []
  },
  {
   "cell_type": "markdown",
   "metadata": {},
   "source": [
    "## BONUS - Funkcje"
   ]
  },
  {
   "cell_type": "code",
   "execution_count": null,
   "metadata": {},
   "outputs": [],
   "source": [
    "def draw_triangle(size):\n",
    "    for i in range(3):\n",
    "        turtle.forward(size)\n",
    "        turtle.right(120)"
   ]
  },
  {
   "cell_type": "code",
   "execution_count": null,
   "metadata": {},
   "outputs": [],
   "source": [
    "turtle.reset()\n",
    "\n",
    "draw_triangle(100)\n",
    "\n",
    "turtle.goto(-100, -100)\n",
    "draw_triangle(80)\n",
    "\n",
    "turtle.right(45)\n",
    "draw_triangle(80)"
   ]
  },
  {
   "cell_type": "code",
   "execution_count": null,
   "metadata": {},
   "outputs": [],
   "source": [
    "def draw_polygon(size, sides):\n",
    "    angle = 360 / sides\n",
    "    for i in range(sides):\n",
    "        turtle.forward(size)\n",
    "        turtle.right(angle)"
   ]
  },
  {
   "cell_type": "code",
   "execution_count": null,
   "metadata": {},
   "outputs": [],
   "source": [
    "turtle.reset()\n",
    "\n",
    "draw_polygon(60, 6)\n",
    "draw_polygon(12, 30)"
   ]
  },
  {
   "cell_type": "code",
   "execution_count": null,
   "metadata": {},
   "outputs": [],
   "source": [
    "def draw_spiral(n, size, span):\n",
    "    for i in range(n):\n",
    "        size = size - span\n",
    "        turtle.forward(size)\n",
    "        turtle.right(90)\n",
    "\n",
    "turtle.reset()        \n",
    "turtle.goto(-100, -100)\n",
    "draw_spiral(20, 200, 10)"
   ]
  },
  {
   "cell_type": "code",
   "execution_count": null,
   "metadata": {},
   "outputs": [],
   "source": [
    "def draw_squares(n, size, span):\n",
    "    draw_polygon(size, 4)\n",
    "    if n > 0:\n",
    "        draw_squares(n - 1, size - span, span)  \n",
    "        \n",
    "turtle.reset()        \n",
    "turtle.goto(0, 0)\n",
    "draw_squares(5, 100, 10)"
   ]
  },
  {
   "cell_type": "markdown",
   "metadata": {},
   "source": [
    "https://pl.wikipedia.org/wiki/Krzywa_Kocha"
   ]
  },
  {
   "cell_type": "code",
   "execution_count": 2,
   "metadata": {},
   "outputs": [],
   "source": [
    "from time import sleep\n",
    "def koch(n, size):\n",
    "    if n > 0:\n",
    "        koch(n - 1, size / 3)\n",
    "        turtle.left(60)\n",
    "        koch(n - 1, size / 3)\n",
    "        turtle.right(120)\n",
    "        koch(n - 1, size / 3)\n",
    "        turtle.left(60)\n",
    "        koch(n - 1, size / 3)\n",
    "    else:\n",
    "        sleep(0.1)\n",
    "        turtle.forward(size)\n",
    "\n",
    "turtle.reset()       \n",
    "turtle.goto(-100, 0)\n",
    "turtle.right(90)\n",
    "\n",
    "for i in range(3):\n",
    "    koch(3, 200)\n",
    "    turtle.right(120)"
   ]
  },
  {
   "cell_type": "code",
   "execution_count": null,
   "metadata": {},
   "outputs": [],
   "source": []
  }
 ],
 "metadata": {
  "kernelspec": {
   "display_name": "Python 3",
   "language": "python",
   "name": "python3"
  },
  "language_info": {
   "codemirror_mode": {
    "name": "ipython",
    "version": 3
   },
   "file_extension": ".py",
   "mimetype": "text/x-python",
   "name": "python",
   "nbconvert_exporter": "python",
   "pygments_lexer": "ipython3",
   "version": "3.7.5"
  }
 },
 "nbformat": 4,
 "nbformat_minor": 4
}
