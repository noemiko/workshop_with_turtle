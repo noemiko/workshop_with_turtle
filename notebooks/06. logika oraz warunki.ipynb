{
 "cells": [
  {
   "cell_type": "markdown",
   "metadata": {},
   "source": [
    "## Zadanie, które zrobisz po tym module\n",
    "\n",
    "Napisz program dla PKP, który na podstawie podanej ceny biletu oraz wieku pasażera, \n",
    "ma wyświetlić uaktualnioną cenę biletu wraz z zniżką:\n",
    "    \n",
    "1. Cena biletu jest podawana w złotówkach\n",
    "2. Dzieci do 18 lat mają zniżkę _50%_\n",
    "3. Starsze osoby od 60 lat mają zniżkę _25%_"
   ]
  },
  {
   "cell_type": "markdown",
   "metadata": {},
   "source": [
    "# Logika oraz warunki"
   ]
  },
  {
   "cell_type": "markdown",
   "metadata": {},
   "source": [
    "![ghost](images/ghost2.png)\n"
   ]
  },
  {
   "cell_type": "code",
   "execution_count": null,
   "metadata": {},
   "outputs": [],
   "source": [
    "czy_polski_sa_najpiekniejsze = True\n",
    "slonce_swieci_w_nocy = False\n",
    "\n",
    "# WCIECIA !!!\n",
    "if czy_polski_sa_najpiekniejsze:\n",
    "    print(\"To się wyświetli\")\n",
    "\n",
    "if slonce_swieci_w_nocy:\n",
    "    print(\"to się nie wyświetli\")"
   ]
  },
  {
   "cell_type": "markdown",
   "metadata": {},
   "source": [
    "![equal](images/equal.png)\n"
   ]
  },
  {
   "cell_type": "code",
   "execution_count": null,
   "metadata": {},
   "outputs": [],
   "source": [
    "raw_number = input(\"podaj proszę liczbę: \")\n",
    "number = int(raw_number)\n",
    "\n",
    "if number == 0:\n",
    "    print(\"to jest liczba zero\")\n",
    "if number != 0:\n",
    "    print(\"to nie jest liczba zero\")\n",
    "if number > 0:\n",
    "    print(\"liczba jest dodatnia\")\n",
    "if number < 0:\n",
    "    print(\"liczba jest ujemna\")\n",
    "if number >= 0:\n",
    "    print(\"liczba jest nieujemna\")\n",
    "if number <= 0:\n",
    "    print(\"liczba jest niedodatnia\")"
   ]
  },
  {
   "cell_type": "markdown",
   "metadata": {},
   "source": [
    "![diagram](images/diagram.jpg)"
   ]
  },
  {
   "cell_type": "code",
   "execution_count": null,
   "metadata": {},
   "outputs": [],
   "source": [
    "raw_number = input(\"Podaj swój wiek \")\n",
    "age = int(raw_number)\n",
    "\n",
    "if age >= 30:\n",
    "    print(\"Możesz zostać prezydentem\")\n",
    "else:\n",
    "    print(\"Niestety poczekaj aż podrośniesz\")"
   ]
  },
  {
   "cell_type": "markdown",
   "metadata": {},
   "source": [
    "## Zadanie nr 2a\n",
    "1. Pobierz wiek z formularza\n",
    "2. Sprawdź czy osoba może legalnie pić alkohol\n",
    "3. Jak skończysz, napisz na czacie **ZROBIONE**"
   ]
  },
  {
   "cell_type": "code",
   "execution_count": null,
   "metadata": {},
   "outputs": [],
   "source": []
  },
  {
   "cell_type": "code",
   "execution_count": null,
   "metadata": {},
   "outputs": [],
   "source": [
    "raw_number = input(\"Ile masz chomików w domu?\")\n",
    "number = int(raw_number)\n",
    "\n",
    "if number == 0:\n",
    "    print(\"Może pomyślisz o przygarnięciu chomiczej rodziny?\")\n",
    "elif number <= 2:\n",
    "    print(\"Masz optymalną liczbę chomiczków w domu. Brawo!\")\n",
    "else:\n",
    "    print(\"Posiadasz chomicze zoo. Czy to legalne?\")"
   ]
  },
  {
   "cell_type": "code",
   "execution_count": null,
   "metadata": {},
   "outputs": [],
   "source": [
    "raw_weight = input(\"podaj proszę wagę [kg]:\")\n",
    "raw_height = input(\"podaj proszę wzrost [cm]:\")\n",
    "\n",
    "weight = float(raw_weight)\n",
    "height = float(raw_height)\n",
    "meters_height = height / 100\n",
    "\n",
    "bmi = weight / meters_height ** 2\n",
    "bmi_round = round(bmi, 2)\n",
    "print(\"BMI to:\", bmi_round)\n",
    "\n",
    "if bmi >= 30.00:\n",
    "    print(\"Masz otyłość\")\n",
    "elif bmi >= 25.00:\n",
    "    print(\"Masz nadwagę\")\n",
    "elif bmi >= 18.00:\n",
    "    print(\"Gratulacje, masz idealną wagę!\")\n",
    "else:\n",
    "    print(\"Masz niedowagę\")"
   ]
  },
  {
   "cell_type": "markdown",
   "metadata": {},
   "source": [
    "# Teraz zadanko!!!"
   ]
  },
  {
   "cell_type": "markdown",
   "metadata": {},
   "source": [
    "## Zadanie nr. 2b\n",
    "\n",
    "Napisz program dla PKP, który na podstawie podanej ceny biletu oraz wieku pasażera, \n",
    "ma wyświetlić uaktualnioną cenę biletu wraz z zniżką:\n",
    "    \n",
    "1. Cena biletu jest podawana w złotówkach\n",
    "2. Dzieci do 18 lat mają zniżkę _50%_\n",
    "3. Starsze osoby od 60 lat mają zniżkę _25%_\n",
    "\n",
    "Jak skończysz - napisz na czacie **ZROBIONE**"
   ]
  },
  {
   "cell_type": "code",
   "execution_count": null,
   "metadata": {},
   "outputs": [],
   "source": [
    "\n"
   ]
  }
 ],
 "metadata": {
  "kernelspec": {
   "display_name": "Python 3",
   "language": "python",
   "name": "python3"
  },
  "language_info": {
   "codemirror_mode": {
    "name": "ipython",
    "version": 3
   },
   "file_extension": ".py",
   "mimetype": "text/x-python",
   "name": "python",
   "nbconvert_exporter": "python",
   "pygments_lexer": "ipython3",
   "version": "3.7.5"
  }
 },
 "nbformat": 4,
 "nbformat_minor": 4
}
