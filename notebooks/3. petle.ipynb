{
 "cells": [
  {
   "cell_type": "markdown",
   "metadata": {},
   "source": [
    "# Pętle oraz listy"
   ]
  },
  {
   "cell_type": "markdown",
   "metadata": {},
   "source": [
    "## Pętla while"
   ]
  },
  {
   "cell_type": "code",
   "execution_count": null,
   "metadata": {},
   "outputs": [],
   "source": [
    "number = 0\n",
    "\n",
    "while number != 42:\n",
    "    raw_number = input(\"podaj liczbę 42: \")\n",
    "    number = int(raw_number)"
   ]
  },
  {
   "cell_type": "code",
   "execution_count": null,
   "metadata": {},
   "outputs": [],
   "source": [
    "sum_numbers = 0\n",
    "raw_number = input(\"podaj liczbę [STOP by wyjść]: \")\n",
    "\n",
    "while raw_number != \"STOP\":\n",
    "    sum_numbers += int(raw_number)\n",
    "    raw_number = input(\"podaj kolejną liczbę [STOP by wyjść]: \")\n",
    "    \n",
    "print(\"suma:\", sum_numbers)"
   ]
  },
  {
   "cell_type": "markdown",
   "metadata": {},
   "source": [
    "## Pętla for"
   ]
  },
  {
   "cell_type": "code",
   "execution_count": null,
   "metadata": {},
   "outputs": [],
   "source": [
    "for index in range(20):\n",
    "    print(\"To jest linijka numer\", index)"
   ]
  },
  {
   "cell_type": "markdown",
   "metadata": {},
   "source": [
    "## Listy"
   ]
  },
  {
   "cell_type": "code",
   "execution_count": null,
   "metadata": {},
   "outputs": [],
   "source": [
    "market_list = [\n",
    "    \"ziemniaki\",\n",
    "    \"herbata\",\n",
    "    \"coca-cola\",\n",
    "]\n",
    "\n",
    "for element in market_list:\n",
    "    print(\"nie zapomnij o:\", element)"
   ]
  },
  {
   "cell_type": "code",
   "execution_count": null,
   "metadata": {},
   "outputs": [],
   "source": [
    "market_list[0]"
   ]
  },
  {
   "cell_type": "code",
   "execution_count": null,
   "metadata": {},
   "outputs": [],
   "source": [
    "market_list[1]"
   ]
  },
  {
   "cell_type": "code",
   "execution_count": null,
   "metadata": {},
   "outputs": [],
   "source": [
    "market_list[-1]"
   ]
  },
  {
   "cell_type": "code",
   "execution_count": null,
   "metadata": {},
   "outputs": [],
   "source": [
    "market_list[0:2]"
   ]
  },
  {
   "cell_type": "code",
   "execution_count": null,
   "metadata": {},
   "outputs": [],
   "source": [
    "market_list[0] = \"kartofle\"\n",
    "market_list"
   ]
  },
  {
   "cell_type": "code",
   "execution_count": null,
   "metadata": {},
   "outputs": [],
   "source": [
    "market_list.append(\"xiaomi lepsze\")\n",
    "market_list"
   ]
  },
  {
   "cell_type": "code",
   "execution_count": null,
   "metadata": {},
   "outputs": [],
   "source": [
    "products = [\n",
    "    [\"ziemniaki\", 10.00],\n",
    "    [\"herbata\", 5.00],\n",
    "    [\"coca-cola\", 5.00],\n",
    "]\n",
    "\n",
    "total = 0.0\n",
    "vat = 0.0\n",
    "\n",
    "for product, price in products:\n",
    "    print(\"nie zapomnij o:\", product)\n",
    "    total += price\n",
    "    vat += price * 0.23\n",
    "    \n",
    "print(\"razem:\", round(total, 2))\n",
    "print(\"vat:\", round(vat, 2))"
   ]
  },
  {
   "cell_type": "markdown",
   "metadata": {},
   "source": [
    "### Zadanie nr. 1\n",
    "\n",
    "Zadanie **fizzbuzz** z poprzedniego rozdziału, rozszerzyjmy o pętlę:\n",
    "    \n",
    "1. Pętla ma być od 0 do 20\n",
    "2. Co każde wykonanie pętli ma wyświetlić liczbę lub **fizz** lub **buzz** lub **fizzbuzz**"
   ]
  },
  {
   "cell_type": "code",
   "execution_count": null,
   "metadata": {},
   "outputs": [],
   "source": []
  },
  {
   "cell_type": "markdown",
   "metadata": {},
   "source": [
    "### Zadanie nr 2.\n",
    "Na podstawie listy liczb (np. `[12, 30, 40, 50]`) stwórz nową listę liczb które będą pomnożone przez 2 oraz ją wyświetl"
   ]
  },
  {
   "cell_type": "code",
   "execution_count": null,
   "metadata": {},
   "outputs": [],
   "source": []
  }
 ],
 "metadata": {
  "kernelspec": {
   "display_name": "Python 3",
   "language": "python",
   "name": "python3"
  },
  "language_info": {
   "codemirror_mode": {
    "name": "ipython",
    "version": 3
   },
   "file_extension": ".py",
   "mimetype": "text/x-python",
   "name": "python",
   "nbconvert_exporter": "python",
   "pygments_lexer": "ipython3",
   "version": "3.7.5"
  }
 },
 "nbformat": 4,
 "nbformat_minor": 4
}
