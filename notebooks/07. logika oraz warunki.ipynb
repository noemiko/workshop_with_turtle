{
 "cells": [
  {
   "cell_type": "code",
   "execution_count": null,
   "metadata": {},
   "outputs": [],
   "source": [
    "# coś fajnego bot (?) formularz logowania (?)"
   ]
  },
  {
   "cell_type": "markdown",
   "metadata": {},
   "source": [
    "### Zadanie, które zrobisz po tym module"
   ]
  },
  {
   "cell_type": "markdown",
   "metadata": {},
   "source": [
    "## Zadanie nr. 2\n",
    "\n",
    "Napisz program dla PKP, który na podstawie podanej ceny biletu oraz wieku pasażera, \n",
    "ma wyświetlić uaktualnioną cenę biletu wraz z zniżką:\n",
    "    \n",
    "1. Cena biletu jest podawana w złotówkach\n",
    "2. Dzieci do 18 lat mają zniżkę _50%_\n",
    "3. Starsze osoby od 60 lat mają zniżkę _25%_"
   ]
  },
  {
   "cell_type": "markdown",
   "metadata": {},
   "source": [
    "# Logika oraz warunki"
   ]
  },
  {
   "cell_type": "markdown",
   "metadata": {},
   "source": [
    "![ghost](ghost2.png)\n"
   ]
  },
  {
   "cell_type": "code",
   "execution_count": null,
   "metadata": {},
   "outputs": [],
   "source": [
    "x = True\n",
    "y = False\n",
    "\n",
    "if x:\n",
    "    print(\"to się wyświetli\")\n",
    "\n",
    "if y:\n",
    "    print(\"to się nie wyświetli\")"
   ]
  },
  {
   "cell_type": "markdown",
   "metadata": {},
   "source": [
    "![equal](equal.png)\n"
   ]
  },
  {
   "cell_type": "code",
   "execution_count": null,
   "metadata": {},
   "outputs": [],
   "source": [
    "raw_number = input(\"podaj proszę liczbę: \")\n",
    "number = int(raw_number)\n",
    "\n",
    "if number == 0:\n",
    "    print(\"to jest liczba zero\")\n",
    "if number != 0:\n",
    "    print(\"to nie jest liczba zero\")\n",
    "if number > 0:\n",
    "    print(\"liczba jest dodatnia\")\n",
    "if number < 0:\n",
    "    print(\"liczba jest ujemna\")\n",
    "if number >= 0:\n",
    "    print(\"liczba jest nieujemna\")\n",
    "if number <= 0:\n",
    "    print(\"liczba jest niedodatnia\")"
   ]
  },
  {
   "cell_type": "markdown",
   "metadata": {},
   "source": [
    "![puppy_decision](puppy_decision.png)\n"
   ]
  },
  {
   "cell_type": "code",
   "execution_count": null,
   "metadata": {},
   "outputs": [],
   "source": [
    "raw_number = input(\"Podaj swój wiek \")\n",
    "age = int(raw_number)\n",
    "\n",
    "if age >= 30:\n",
    "    print(\"Możesz zostać prezydentem\")\n",
    "else:\n",
    "    print(\"Niestety poczekaj aż podrośniesz\")"
   ]
  },
  {
   "cell_type": "code",
   "execution_count": null,
   "metadata": {},
   "outputs": [],
   "source": [
    "raw_number = input(\"Ile masz chomików w domu?\")\n",
    "number = int(raw_number)\n",
    "\n",
    "if number == 0:\n",
    "    print(\"Może pomyślisz o przygarnięciu chomiczej rodziny?\")\n",
    "elif number <= 2:\n",
    "    print(\"Masz optymalną liczbę chomiczków w domu. Brawo!\")\n",
    "else:\n",
    "    print(\"Posiadasz chomicze zoo. Czy to legalne?\")"
   ]
  },
  {
   "cell_type": "code",
   "execution_count": null,
   "metadata": {},
   "outputs": [],
   "source": [
    "raw_number = input(\"podaj proszę liczbę: \")\n",
    "number = int(raw_number)\n",
    "\n",
    "if number % 2 == 0 and number > 0:\n",
    "    print(\"liczba jest parzysta oraz większa od zero\")\n",
    "if number % 3 == 0 or number % 5 == 0:\n",
    "    print(\"liczba jest podzielna przez 3 oraz 5\")"
   ]
  },
  {
   "cell_type": "code",
   "execution_count": null,
   "metadata": {},
   "outputs": [],
   "source": [
    "raw_weight = input(\"podaj proszę wagę [kg]:\")\n",
    "raw_height = input(\"podaj proszę wzrost [cm]:\")\n",
    "\n",
    "weight = float(raw_weight)\n",
    "height = float(raw_height)\n",
    "meters_height = height / 100\n",
    "\n",
    "bmi = weight / meters_height ** 2\n",
    "bmi_round = round(bmi, 2)\n",
    "print(\"BMI to:\", bmi_round)\n",
    "\n",
    "if bmi >= 30.00:\n",
    "    print(\"Masz otyłość\")\n",
    "elif bmi >= 25.00:\n",
    "    print(\"Masz nadwagę\")\n",
    "elif bmi >= 18.00:\n",
    "    print(\"Gratulacje, masz idealną wagę!\")\n",
    "else:\n",
    "    print(\"Masz niedowagę\")"
   ]
  },
  {
   "cell_type": "markdown",
   "metadata": {},
   "source": [
    "# Teraz zadanko!!!"
   ]
  },
  {
   "cell_type": "markdown",
   "metadata": {},
   "source": [
    "## Zadanie nr. 2\n",
    "\n",
    "Napisz program dla PKP, który na podstawie podanej ceny biletu oraz wieku pasażera, \n",
    "ma wyświetlić uaktualnioną cenę biletu wraz z zniżką:\n",
    "    \n",
    "1. Cena biletu jest podawana w złotówkach\n",
    "2. Dzieci do 18 lat mają zniżkę _50%_\n",
    "3. Starsze osoby od 60 lat mają zniżkę _25%_"
   ]
  },
  {
   "cell_type": "code",
   "execution_count": null,
   "metadata": {},
   "outputs": [],
   "source": [
    "\n"
   ]
  }
 ],
 "metadata": {
  "kernelspec": {
   "display_name": "Python 3",
   "language": "python",
   "name": "python3"
  },
  "language_info": {
   "codemirror_mode": {
    "name": "ipython",
    "version": 3
   },
   "file_extension": ".py",
   "mimetype": "text/x-python",
   "name": "python",
   "nbconvert_exporter": "python",
   "pygments_lexer": "ipython3",
   "version": "3.6.9"
  }
 },
 "nbformat": 4,
 "nbformat_minor": 4
}
