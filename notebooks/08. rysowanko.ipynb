{
 "cells": [
  {
   "cell_type": "code",
   "execution_count": null,
   "metadata": {},
   "outputs": [],
   "source": [
    "from tturtle import turtle\n",
    "from random import randint\n",
    "turtle"
   ]
  },
  {
   "cell_type": "code",
   "execution_count": null,
   "metadata": {},
   "outputs": [],
   "source": [
    "# super gwiazdka kocha\n",
    "\n",
    "def koch(n, size):\n",
    "    if n > 0:\n",
    "        koch(n - 1, size / 3)\n",
    "        turtle.left(60)\n",
    "        koch(n - 1, size / 3)\n",
    "        turtle.right(120)\n",
    "        koch(n - 1, size / 3)\n",
    "        turtle.left(60)\n",
    "        koch(n - 1, size / 3)\n",
    "    else:\n",
    "        turtle.forward(size)\n",
    "\n",
    "turtle.reset()       \n",
    "turtle.goto(-100, 0)\n",
    "turtle.right(90)\n",
    "\n",
    "for i in range(3):\n",
    "    koch(3, 200)\n",
    "    turtle.right(120)"
   ]
  },
  {
   "cell_type": "markdown",
   "metadata": {},
   "source": [
    "### Zadanie, które zrobisz po tym module"
   ]
  },
  {
   "cell_type": "markdown",
   "metadata": {},
   "source": [
    "## 3. Narysuj żółwikiem swoje imię i obrysuj ramką"
   ]
  },
  {
   "cell_type": "markdown",
   "metadata": {},
   "source": [
    "# Pętle"
   ]
  },
  {
   "cell_type": "markdown",
   "metadata": {},
   "source": [
    "![while](while.jpeg)\n"
   ]
  },
  {
   "cell_type": "markdown",
   "metadata": {},
   "source": [
    "## Powtarzanie czynności (pętle)"
   ]
  },
  {
   "cell_type": "code",
   "execution_count": null,
   "metadata": {},
   "outputs": [],
   "source": [
    "for i in range(5):\n",
    "    print(\"Nie będę przeszkadzać na lekcji\")"
   ]
  },
  {
   "cell_type": "code",
   "execution_count": null,
   "metadata": {
    "scrolled": true
   },
   "outputs": [],
   "source": [
    "for i in range(5):\n",
    "    print(\"nr\", i)"
   ]
  },
  {
   "cell_type": "code",
   "execution_count": null,
   "metadata": {},
   "outputs": [],
   "source": [
    "s = 0\n",
    "for i in range(5):\n",
    "    s += i\n",
    "print(s)"
   ]
  },
  {
   "cell_type": "markdown",
   "metadata": {},
   "source": [
    "## Rysowanie"
   ]
  },
  {
   "cell_type": "code",
   "execution_count": null,
   "metadata": {},
   "outputs": [],
   "source": [
    "turtle.reset()\n",
    "\n",
    "turtle.forward(100)"
   ]
  },
  {
   "cell_type": "code",
   "execution_count": null,
   "metadata": {},
   "outputs": [],
   "source": [
    "turtle.reset()\n",
    "\n",
    "turtle.back(100)"
   ]
  },
  {
   "cell_type": "code",
   "execution_count": null,
   "metadata": {},
   "outputs": [],
   "source": [
    "turtle.reset()\n",
    "\n",
    "turtle.forward(100)\n",
    "turtle.right(90)\n",
    "turtle.forward(100)"
   ]
  },
  {
   "cell_type": "code",
   "execution_count": null,
   "metadata": {},
   "outputs": [],
   "source": [
    "turtle.reset()\n",
    "\n",
    "turtle.forward(100)\n",
    "turtle.left(90)\n",
    "turtle.forward(100)"
   ]
  },
  {
   "cell_type": "code",
   "execution_count": null,
   "metadata": {},
   "outputs": [],
   "source": [
    "turtle.reset()\n",
    "\n",
    "turtle.goto(-100, -100)\n",
    "turtle.forward(100)"
   ]
  },
  {
   "cell_type": "code",
   "execution_count": null,
   "metadata": {},
   "outputs": [],
   "source": [
    "turtle.reset()\n",
    "\n",
    "turtle.forward(50)\n",
    "turtle.penup()\n",
    "turtle.forward(50)\n",
    "turtle.pendown()\n",
    "turtle.forward(50)"
   ]
  },
  {
   "cell_type": "code",
   "execution_count": null,
   "metadata": {},
   "outputs": [],
   "source": [
    "turtle.reset()\n",
    "for i in range(4):\n",
    "    turtle.forward(100)\n",
    "    turtle.right(90)"
   ]
  },
  {
   "cell_type": "code",
   "execution_count": null,
   "metadata": {},
   "outputs": [],
   "source": [
    "turtle.reset()\n",
    "turtle.goto(-100, -100)\n",
    "for i in range(3):\n",
    "    turtle.forward(100)\n",
    "    turtle.right(120)"
   ]
  },
  {
   "cell_type": "code",
   "execution_count": null,
   "metadata": {},
   "outputs": [],
   "source": [
    "turtle.reset()\n",
    "\n",
    "turtle.goto(-100, 0)\n",
    "draw_polygon(13, 50)"
   ]
  },
  {
   "cell_type": "markdown",
   "metadata": {},
   "source": [
    "ZADANKO!"
   ]
  },
  {
   "cell_type": "code",
   "execution_count": null,
   "metadata": {},
   "outputs": [],
   "source": [
    "# zadanie easy - narysuj litere Z\n",
    "# zadanie mid - narysuj litere A\n"
   ]
  },
  {
   "cell_type": "markdown",
   "metadata": {},
   "source": [
    "## Funkcje"
   ]
  },
  {
   "cell_type": "code",
   "execution_count": null,
   "metadata": {},
   "outputs": [],
   "source": [
    "def print_doubled_number(x):\n",
    "    print(\"podwójna liczba:\", x * 2)\n",
    "    \n",
    "print_doubled_number(12)\n",
    "print_doubled_number(30)"
   ]
  },
  {
   "cell_type": "code",
   "execution_count": null,
   "metadata": {},
   "outputs": [],
   "source": [
    "def show_parity_of_number(x):\n",
    "    if x % 2 == 1:\n",
    "        return \"parzysta\"\n",
    "    else:\n",
    "        return \"nieparzysta\"\n",
    "    \n",
    "raw_x = input(\"podaj liczbę\")\n",
    "x = int(raw_x)\n",
    "parity = show_parity_of_number(x)\n",
    "print(\"liczba\", x, \"jest\", parity)"
   ]
  },
  {
   "cell_type": "code",
   "execution_count": null,
   "metadata": {},
   "outputs": [],
   "source": [
    "def draw_polygon(size, sides):\n",
    "    angle = 360 / sides\n",
    "    for i in range(sides):\n",
    "        turtle.forward(size)\n",
    "        turtle.right(angle)"
   ]
  },
  {
   "cell_type": "code",
   "execution_count": null,
   "metadata": {},
   "outputs": [],
   "source": [
    "def draw_spiral(n, size, span):\n",
    "    for i in range(n):\n",
    "        size -= span\n",
    "        turtle.forward(size)\n",
    "        turtle.right(90)\n",
    "\n",
    "turtle.reset()        \n",
    "turtle.goto(-100, -100)\n",
    "draw_spiral(20, 200, 10)"
   ]
  },
  {
   "cell_type": "code",
   "execution_count": null,
   "metadata": {},
   "outputs": [],
   "source": [
    "def draw_spiral(n, size, span):\n",
    "    turtle.forward(size)\n",
    "    turtle.right(90)\n",
    "    if n > 0:\n",
    "        draw_spiral(n - 1, size - span, span)\n",
    "\n",
    "turtle.reset()        \n",
    "turtle.goto(-100, -100)\n",
    "draw_spiral(20, 200, 10)"
   ]
  },
  {
   "cell_type": "code",
   "execution_count": null,
   "metadata": {},
   "outputs": [],
   "source": [
    "def draw_squares(n, size, span):\n",
    "    draw_polygon(size, 4)\n",
    "    if n > 0:\n",
    "        draw_squares(n - 1, size - span, span)  \n",
    "        \n",
    "turtle.reset()        \n",
    "turtle.goto(0, 0)\n",
    "draw_squares(5, 100, 10)"
   ]
  },
  {
   "cell_type": "code",
   "execution_count": null,
   "metadata": {},
   "outputs": [],
   "source": [
    "turtle.reset()\n",
    "\n",
    "turtle.goto(-100, -100)\n",
    "turtle.pencolor(\"red\")\n",
    "draw_polygon(50, 3)\n",
    "\n",
    "turtle.goto(-100, 0)\n",
    "turtle.pencolor(\"yellow\")\n",
    "draw_polygon(50, 4)\n",
    "\n",
    "turtle.goto(-100, 100)\n",
    "turtle.pencolor(\"green\")\n",
    "draw_polygon(30, 6)"
   ]
  },
  {
   "cell_type": "markdown",
   "metadata": {},
   "source": [
    "https://pl.wikipedia.org/wiki/Krzywa_Kocha"
   ]
  },
  {
   "cell_type": "code",
   "execution_count": null,
   "metadata": {},
   "outputs": [],
   "source": [
    "def koch(n, size):\n",
    "    if n > 0:\n",
    "        koch(n - 1, size / 3)\n",
    "        turtle.left(60)\n",
    "        koch(n - 1, size / 3)\n",
    "        turtle.right(120)\n",
    "        koch(n - 1, size / 3)\n",
    "        turtle.left(60)\n",
    "        koch(n - 1, size / 3)\n",
    "    else:\n",
    "        turtle.forward(size)\n",
    "\n",
    "turtle.reset()       \n",
    "turtle.goto(-100, 0)\n",
    "turtle.right(90)\n",
    "\n",
    "for i in range(3):\n",
    "    koch(3, 200)\n",
    "    turtle.right(120)"
   ]
  },
  {
   "cell_type": "markdown",
   "metadata": {},
   "source": [
    "# Teraz zadanko!!!"
   ]
  },
  {
   "cell_type": "markdown",
   "metadata": {},
   "source": [
    "### 3. Narysuj żółwikiem swoje imię i obrysuj ramką"
   ]
  },
  {
   "cell_type": "code",
   "execution_count": null,
   "metadata": {},
   "outputs": [],
   "source": []
  }
 ],
 "metadata": {
  "kernelspec": {
   "display_name": "Python 3",
   "language": "python",
   "name": "python3"
  },
  "language_info": {
   "codemirror_mode": {
    "name": "ipython",
    "version": 3
   },
   "file_extension": ".py",
   "mimetype": "text/x-python",
   "name": "python",
   "nbconvert_exporter": "python",
   "pygments_lexer": "ipython3",
   "version": "3.6.9"
  }
 },
 "nbformat": 4,
 "nbformat_minor": 4
}
