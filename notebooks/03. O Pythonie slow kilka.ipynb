{
 "cells": [
  {
   "cell_type": "markdown",
   "metadata": {},
   "source": [
    "## Dlaczego Python?\n",
    "* Popularność - https://www.tiobe.com/tiobe-index/\n",
    "* Bardzo przypomina język Angielski\n",
    "* Pisze się w nim strony internetowe\n",
    "* Wykorzystuje się do sztucznej intelingencji\n",
    "* Nadaje się także do pisania gier czy analizy danych"
   ]
  }
 ],
 "metadata": {
  "kernelspec": {
   "display_name": "Python 3",
   "language": "python",
   "name": "python3"
  },
  "language_info": {
   "codemirror_mode": {
    "name": "ipython",
    "version": 3
   },
   "file_extension": ".py",
   "mimetype": "text/x-python",
   "name": "python",
   "nbconvert_exporter": "python",
   "pygments_lexer": "ipython3",
   "version": "3.7.5"
  }
 },
 "nbformat": 4,
 "nbformat_minor": 4
}
