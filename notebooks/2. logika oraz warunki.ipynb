{
 "cells": [
  {
   "cell_type": "markdown",
   "metadata": {},
   "source": [
    "# Logika oraz warunki"
   ]
  },
  {
   "cell_type": "code",
   "execution_count": 1,
   "metadata": {},
   "outputs": [
    {
     "name": "stdout",
     "output_type": "stream",
     "text": [
      "to się wyświetli\n"
     ]
    }
   ],
   "source": [
    "x = True\n",
    "y = False\n",
    "\n",
    "if x:\n",
    "    print(\"to się wyświetli\")\n",
    "\n",
    "if y:\n",
    "    print(\"to się nie wyświetli\")"
   ]
  },
  {
   "cell_type": "code",
   "execution_count": 7,
   "metadata": {},
   "outputs": [
    {
     "name": "stdout",
     "output_type": "stream",
     "text": [
      "podaj proszę liczbę: 0\n",
      "wpisałeś liczbę 0\n",
      "liczba jest nieujemna\n",
      "liczba jest niedodatnia\n"
     ]
    }
   ],
   "source": [
    "raw_number = input(\"podaj proszę liczbę: \")\n",
    "number = int(raw_number)\n",
    "\n",
    "if number == 0:\n",
    "    print(\"wpisałeś liczbę 0\")\n",
    "if number > 0:\n",
    "    print(\"liczba jest dodatnia\")\n",
    "if number < 0:\n",
    "    print(\"liczba jest ujemna\")\n",
    "if number >= 0:\n",
    "    print(\"liczba jest nieujemna\")\n",
    "if number <= 0:\n",
    "    print(\"liczba jest niedodatnia\")"
   ]
  },
  {
   "cell_type": "code",
   "execution_count": 13,
   "metadata": {},
   "outputs": [
    {
     "name": "stdout",
     "output_type": "stream",
     "text": [
      "BARDZO PROSZĘ O PODANIE LICZBY 42: 42\n",
      "GRATULACJE.\n"
     ]
    }
   ],
   "source": [
    "raw_number = input(\"BARDZO PROSZĘ O PODANIE LICZBY 42: \")\n",
    "number = int(raw_number)\n",
    "\n",
    "if number == 42:\n",
    "    print(\"GRATULACJE.\")\n",
    "else:\n",
    "    print(\"TO NIE JEST LICZBA 42!\")"
   ]
  },
  {
   "cell_type": "code",
   "execution_count": 16,
   "metadata": {},
   "outputs": [
    {
     "name": "stdout",
     "output_type": "stream",
     "text": [
      "BARDZO PROSZĘ O PODANIE LICZBY 42: -50\n",
      "TO NIE JEST LICZBA 42!\n"
     ]
    }
   ],
   "source": [
    "raw_number = input(\"BARDZO PROSZĘ O PODANIE LICZBY 42: \")\n",
    "number = int(raw_number)\n",
    "\n",
    "if number == 42:\n",
    "    print(\"GRATULACJE.\")\n",
    "elif number > 0:\n",
    "    print(\"NO CHOCIAŻ DODATNIA.\")\n",
    "else:\n",
    "    print(\"TO NIE JEST LICZBA 42!\")"
   ]
  },
  {
   "cell_type": "code",
   "execution_count": 15,
   "metadata": {},
   "outputs": [
    {
     "ename": "KeyboardInterrupt",
     "evalue": "Interrupted by user",
     "output_type": "error",
     "traceback": [
      "\u001b[0;31m---------------------------------------------------------------------------\u001b[0m",
      "\u001b[0;31mKeyboardInterrupt\u001b[0m                         Traceback (most recent call last)",
      "\u001b[0;32m<ipython-input-15-a7c7e6c1fa0b>\u001b[0m in \u001b[0;36m<module>\u001b[0;34m\u001b[0m\n\u001b[0;32m----> 1\u001b[0;31m \u001b[0mraw_number\u001b[0m \u001b[0;34m=\u001b[0m \u001b[0minput\u001b[0m\u001b[0;34m(\u001b[0m\u001b[0;34m\"podaj proszę liczbę: \"\u001b[0m\u001b[0;34m)\u001b[0m\u001b[0;34m\u001b[0m\u001b[0;34m\u001b[0m\u001b[0m\n\u001b[0m\u001b[1;32m      2\u001b[0m \u001b[0mnumber\u001b[0m \u001b[0;34m=\u001b[0m \u001b[0mint\u001b[0m\u001b[0;34m(\u001b[0m\u001b[0mraw_number\u001b[0m\u001b[0;34m)\u001b[0m\u001b[0;34m\u001b[0m\u001b[0;34m\u001b[0m\u001b[0m\n\u001b[1;32m      3\u001b[0m \u001b[0;34m\u001b[0m\u001b[0m\n\u001b[1;32m      4\u001b[0m \u001b[0;32mif\u001b[0m \u001b[0mnumber\u001b[0m \u001b[0;34m%\u001b[0m \u001b[0;36m2\u001b[0m \u001b[0;34m==\u001b[0m \u001b[0;36m0\u001b[0m \u001b[0;32mand\u001b[0m \u001b[0mnumber\u001b[0m \u001b[0;34m>\u001b[0m \u001b[0;36m0\u001b[0m\u001b[0;34m:\u001b[0m\u001b[0;34m\u001b[0m\u001b[0;34m\u001b[0m\u001b[0m\n\u001b[1;32m      5\u001b[0m     \u001b[0mprint\u001b[0m\u001b[0;34m(\u001b[0m\u001b[0;34m\"liczba jest parzysta oraz większa od zero\"\u001b[0m\u001b[0;34m)\u001b[0m\u001b[0;34m\u001b[0m\u001b[0;34m\u001b[0m\u001b[0m\n",
      "\u001b[0;32m~/hydepark/work/venv/lib/python3.7/site-packages/ipykernel/kernelbase.py\u001b[0m in \u001b[0;36mraw_input\u001b[0;34m(self, prompt)\u001b[0m\n\u001b[1;32m    861\u001b[0m             \u001b[0mself\u001b[0m\u001b[0;34m.\u001b[0m\u001b[0m_parent_ident\u001b[0m\u001b[0;34m,\u001b[0m\u001b[0;34m\u001b[0m\u001b[0;34m\u001b[0m\u001b[0m\n\u001b[1;32m    862\u001b[0m             \u001b[0mself\u001b[0m\u001b[0;34m.\u001b[0m\u001b[0m_parent_header\u001b[0m\u001b[0;34m,\u001b[0m\u001b[0;34m\u001b[0m\u001b[0;34m\u001b[0m\u001b[0m\n\u001b[0;32m--> 863\u001b[0;31m             \u001b[0mpassword\u001b[0m\u001b[0;34m=\u001b[0m\u001b[0;32mFalse\u001b[0m\u001b[0;34m,\u001b[0m\u001b[0;34m\u001b[0m\u001b[0;34m\u001b[0m\u001b[0m\n\u001b[0m\u001b[1;32m    864\u001b[0m         )\n\u001b[1;32m    865\u001b[0m \u001b[0;34m\u001b[0m\u001b[0m\n",
      "\u001b[0;32m~/hydepark/work/venv/lib/python3.7/site-packages/ipykernel/kernelbase.py\u001b[0m in \u001b[0;36m_input_request\u001b[0;34m(self, prompt, ident, parent, password)\u001b[0m\n\u001b[1;32m    902\u001b[0m             \u001b[0;32mexcept\u001b[0m \u001b[0mKeyboardInterrupt\u001b[0m\u001b[0;34m:\u001b[0m\u001b[0;34m\u001b[0m\u001b[0;34m\u001b[0m\u001b[0m\n\u001b[1;32m    903\u001b[0m                 \u001b[0;31m# re-raise KeyboardInterrupt, to truncate traceback\u001b[0m\u001b[0;34m\u001b[0m\u001b[0;34m\u001b[0m\u001b[0;34m\u001b[0m\u001b[0m\n\u001b[0;32m--> 904\u001b[0;31m                 \u001b[0;32mraise\u001b[0m \u001b[0mKeyboardInterrupt\u001b[0m\u001b[0;34m(\u001b[0m\u001b[0;34m\"Interrupted by user\"\u001b[0m\u001b[0;34m)\u001b[0m \u001b[0;32mfrom\u001b[0m \u001b[0;32mNone\u001b[0m\u001b[0;34m\u001b[0m\u001b[0;34m\u001b[0m\u001b[0m\n\u001b[0m\u001b[1;32m    905\u001b[0m             \u001b[0;32mexcept\u001b[0m \u001b[0mException\u001b[0m \u001b[0;32mas\u001b[0m \u001b[0me\u001b[0m\u001b[0;34m:\u001b[0m\u001b[0;34m\u001b[0m\u001b[0;34m\u001b[0m\u001b[0m\n\u001b[1;32m    906\u001b[0m                 \u001b[0mself\u001b[0m\u001b[0;34m.\u001b[0m\u001b[0mlog\u001b[0m\u001b[0;34m.\u001b[0m\u001b[0mwarning\u001b[0m\u001b[0;34m(\u001b[0m\u001b[0;34m\"Invalid Message:\"\u001b[0m\u001b[0;34m,\u001b[0m \u001b[0mexc_info\u001b[0m\u001b[0;34m=\u001b[0m\u001b[0;32mTrue\u001b[0m\u001b[0;34m)\u001b[0m\u001b[0;34m\u001b[0m\u001b[0;34m\u001b[0m\u001b[0m\n",
      "\u001b[0;31mKeyboardInterrupt\u001b[0m: Interrupted by user"
     ]
    }
   ],
   "source": [
    "raw_number = input(\"podaj proszę liczbę: \")\n",
    "number = int(raw_number)\n",
    "\n",
    "if number % 2 == 0 and number > 0:\n",
    "    print(\"liczba jest parzysta oraz większa od zero\")\n",
    "if number % 3 == 0 or number % 5 == 0:\n",
    "    print(\"liczba jest podzielna przez 3 oraz 5\")"
   ]
  },
  {
   "cell_type": "code",
   "execution_count": 17,
   "metadata": {},
   "outputs": [
    {
     "name": "stdout",
     "output_type": "stream",
     "text": [
      "podaj proszę wagę [kg]:80\n",
      "podaj proszę wzrost [cm]:175\n",
      "BMI to: 26.12\n",
      "Masz nadwagę\n"
     ]
    }
   ],
   "source": [
    "raw_weight = input(\"podaj proszę wagę [kg]:\")\n",
    "raw_height = input(\"podaj proszę wzrost [cm]:\")\n",
    "\n",
    "weight = float(raw_weight)\n",
    "height = float(raw_height)\n",
    "meters_height = height / 100\n",
    "\n",
    "bmi = weight / meters_height ** 2\n",
    "bmi_round = round(bmi, 2)\n",
    "print(\"BMI to:\", bmi_round)\n",
    "\n",
    "if bmi >= 30.00:\n",
    "    print(\"Masz otyłość\")\n",
    "elif bmi >= 25.00:\n",
    "    print(\"Masz nadwagę\")\n",
    "elif bmi >= 18.00:\n",
    "    print(\"Gratulacje, masz idealną wagę!\")\n",
    "else:\n",
    "    print(\"Masz niedowagę\")"
   ]
  },
  {
   "cell_type": "markdown",
   "metadata": {},
   "source": [
    "### Zadanie nr. 1\n",
    "\n",
    "Napisz program który na podstawie podanej liczby (przy pomocy funkcji `input`) zagra z znami w wyliczankę _fizzbuzz_:\n",
    "\n",
    "1. Jak liczba jest podzielna przez 3, to ma wyświetlić na ekranie **fizz**\n",
    "2. Jak liczba jest podzielna przez 5, to ma wyświetlić na ekranie **buzz**\n",
    "3. Jak liczba jest podzielna przez 3 oraz 5, to ma wyświetlić na ekranie **fizzbuzz**\n",
    "4. Jak nie spełniła żadnego z powyższych warunków, to ma wyświetlić podaną liczbę"
   ]
  },
  {
   "cell_type": "code",
   "execution_count": null,
   "metadata": {},
   "outputs": [],
   "source": []
  },
  {
   "cell_type": "markdown",
   "metadata": {},
   "source": [
    "## Zadanie nr. 2\n",
    "\n",
    "Napisz program dla PKP, który na podstawie podanej ceny biletu oraz wieku pasażera, \n",
    "ma wyświetlić uaktualnioną cenę biletu wraz z zniżką:\n",
    "    \n",
    "1. Cena biletu jest podawana w złotówkach\n",
    "2. Dzieci do 18 lat mają zniżkę _50%_\n",
    "3. Starsze osoby od 60 lat mają zniżkę _25%_"
   ]
  },
  {
   "cell_type": "code",
   "execution_count": null,
   "metadata": {},
   "outputs": [],
   "source": []
  }
 ],
 "metadata": {
  "kernelspec": {
   "display_name": "Python 3",
   "language": "python",
   "name": "python3"
  },
  "language_info": {
   "codemirror_mode": {
    "name": "ipython",
    "version": 3
   },
   "file_extension": ".py",
   "mimetype": "text/x-python",
   "name": "python",
   "nbconvert_exporter": "python",
   "pygments_lexer": "ipython3",
   "version": "3.7.5"
  }
 },
 "nbformat": 4,
 "nbformat_minor": 4
}
