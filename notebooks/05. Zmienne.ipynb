{
 "cells": [
  {
   "cell_type": "markdown",
   "metadata": {},
   "source": [
    "## Zadanie, które zrobisz po tym module\n",
    "Napisz program który poprosi o **kwotę produktu** oraz wyświetli **podatek VAT** _(23%)_ z tego produktu. "
   ]
  },
  {
   "cell_type": "markdown",
   "metadata": {},
   "source": [
    "## Wyświetlanie"
   ]
  },
  {
   "cell_type": "code",
   "execution_count": null,
   "metadata": {},
   "outputs": [],
   "source": [
    "4"
   ]
  },
  {
   "cell_type": "code",
   "execution_count": null,
   "metadata": {},
   "outputs": [],
   "source": [
    "print(\"Hello\")\n",
    "print(\"World\")"
   ]
  },
  {
   "cell_type": "code",
   "execution_count": null,
   "metadata": {
    "scrolled": true
   },
   "outputs": [],
   "source": [
    "print(100 + 100, \"lat\", \"!\")"
   ]
  },
  {
   "cell_type": "markdown",
   "metadata": {},
   "source": [
    "# Zmienne"
   ]
  },
  {
   "cell_type": "markdown",
   "metadata": {},
   "source": [
    "![bucket](images/variable-bucket.jpg)"
   ]
  },
  {
   "cell_type": "code",
   "execution_count": null,
   "metadata": {},
   "outputs": [],
   "source": [
    "x = 8"
   ]
  },
  {
   "cell_type": "markdown",
   "metadata": {
    "pycharm": {
     "name": "#%% md\n"
    }
   },
   "source": [
    "![variable](images/variable.jpg)"
   ]
  },
  {
   "cell_type": "code",
   "execution_count": null,
   "metadata": {},
   "outputs": [],
   "source": [
    "x+x"
   ]
  },
  {
   "cell_type": "markdown",
   "metadata": {},
   "source": [
    "### Zadanie nr 1a\n",
    "1. Stwórzcie zmienną \"wiek\" ze swoim wiekiem\n",
    "2. Wyświetlcie swój wiek.\n",
    "3. Napiszcie na czacie ZROBIONE."
   ]
  },
  {
   "cell_type": "code",
   "execution_count": null,
   "metadata": {},
   "outputs": [],
   "source": []
  },
  {
   "cell_type": "markdown",
   "metadata": {
    "pycharm": {
     "name": "#%%\n"
    }
   },
   "source": [
    "Jak uzyskać liczbę od użytkownika?"
   ]
  },
  {
   "cell_type": "code",
   "execution_count": null,
   "metadata": {},
   "outputs": [],
   "source": [
    "age = input(\"podaj proszę wiek:\")\n",
    "age"
   ]
  },
  {
   "cell_type": "markdown",
   "metadata": {},
   "source": [
    "Spróbuj się odmłodzić"
   ]
  },
  {
   "cell_type": "code",
   "execution_count": null,
   "metadata": {},
   "outputs": [],
   "source": [
    "age - 20"
   ]
  },
  {
   "cell_type": "markdown",
   "metadata": {},
   "source": [
    "# Typy"
   ]
  },
  {
   "cell_type": "markdown",
   "metadata": {},
   "source": [
    "![kostka_edukacyjna.jpg](images/kostka_edukacyjna.jpg)"
   ]
  },
  {
   "cell_type": "code",
   "execution_count": null,
   "metadata": {},
   "outputs": [],
   "source": [
    "integer = 20\n",
    "real = 1.0\n",
    "string = \"ala ma kota\""
   ]
  },
  {
   "cell_type": "code",
   "execution_count": null,
   "metadata": {},
   "outputs": [],
   "source": [
    "a = 20 + 20\n",
    "b = 20.12 + 20.0\n",
    "c = \"ala\" + \"ma\" + \"kota\"\n",
    "\n",
    "print(\"a =\", a)\n",
    "print(\"b =\", b)\n",
    "print(\"c =\", c)"
   ]
  },
  {
   "cell_type": "markdown",
   "metadata": {},
   "source": [
    "Skrypt rozpoznał Twój wiek jako tekst. Trzeba mu wskazać typ podawanego parametru. \n",
    "\n",
    "Używamy do tego:"
   ]
  },
  {
   "cell_type": "code",
   "execution_count": null,
   "metadata": {},
   "outputs": [],
   "source": [
    "int(age)"
   ]
  },
  {
   "cell_type": "code",
   "execution_count": null,
   "metadata": {},
   "outputs": [],
   "source": [
    "float(age)"
   ]
  },
  {
   "cell_type": "code",
   "execution_count": null,
   "metadata": {},
   "outputs": [],
   "source": [
    "str(age)"
   ]
  },
  {
   "cell_type": "markdown",
   "metadata": {},
   "source": [
    "## Zadanie nr 1b\n",
    "1. Napraw poniższą komórkę, by nie pokazywała błędów\n",
    "2. Napisz na czacie **ZROBIONE**"
   ]
  },
  {
   "cell_type": "code",
   "execution_count": null,
   "metadata": {},
   "outputs": [],
   "source": []
  },
  {
   "cell_type": "code",
   "execution_count": null,
   "metadata": {},
   "outputs": [],
   "source": [
    "age + 20"
   ]
  },
  {
   "cell_type": "markdown",
   "metadata": {},
   "source": [
    "Możemy wykonywać przeróżne operacje matematyczne"
   ]
  },
  {
   "cell_type": "code",
   "execution_count": null,
   "metadata": {},
   "outputs": [],
   "source": [
    "print(\"(dodawanie) 10 + 10 =\", 10 + 10)\n",
    "print(\"(odejmowanie) 10 - 10 =\", 10 - 10)\n",
    "print(\"(mnożenie) 20 * 20 =\", 20 * 20)\n",
    "print(\"(potęgowanie) 2 ** 3 =\", 2 ** 3)\n",
    "print(\"(dzielenie) 3 / 4 =\", 3 / 4)\n",
    "print(\"(dzielenie całkowite) 7 // 4 =\", 7 // 4)"
   ]
  },
  {
   "cell_type": "code",
   "execution_count": null,
   "metadata": {},
   "outputs": [],
   "source": [
    "a = 8\n",
    "a = a + 9\n",
    "print(a)"
   ]
  },
  {
   "cell_type": "markdown",
   "metadata": {},
   "source": [
    "Jak już połączymy naszą całą wiedzę, to możemy zrobić kalkulator BMI:"
   ]
  },
  {
   "cell_type": "code",
   "execution_count": null,
   "metadata": {},
   "outputs": [],
   "source": [
    "raw_weight = input(\"podaj proszę wagę [kg]:\")\n",
    "raw_height = input(\"podaj proszę wzrost [cm]:\")\n",
    "\n",
    "weight = float(raw_weight)\n",
    "height = float(raw_height)\n",
    "meters_height = height / 100\n",
    "\n",
    "bmi = weight / meters_height ** 2\n",
    "bmi_round = round(bmi, 2) # round(liczba) zaokrągla w górę\n",
    "print(\"BMI to:\", bmi_round)"
   ]
  },
  {
   "cell_type": "markdown",
   "metadata": {},
   "source": [
    "# Teraz zadanko!!!"
   ]
  },
  {
   "cell_type": "markdown",
   "metadata": {},
   "source": [
    "### Zadanie nr 1c\n",
    "1. Napisz program który poprosi o **kwotę produktu** oraz wyświetli **podatek VAT** _(23%)_ z tego produktu. \n",
    "2. Nie ma wstydu by kopiować z poprzednich przykładów\n",
    "3. Pytaj jak utkniesz\n",
    "4. Jak skończysz - napisz na czacie **ZROBIONE**"
   ]
  },
  {
   "cell_type": "code",
   "execution_count": null,
   "metadata": {},
   "outputs": [],
   "source": []
  },
  {
   "cell_type": "markdown",
   "metadata": {},
   "source": [
    "### Zadanie z gwiazdką\n",
    "Nasz znajomy prowadzi sklep z płotami dla ogrodów. Napisz dla niego program, który na podstawie podanej długości płota (w metrach) obliczy ile potrzeba sztachet.\n",
    "\n",
    "1. możesz założyć na początku, że rozmiar 1 sztachety to 15cm, a później dopisać pobieranie parametru\n",
    "2. pamiętaj o tym, że rozmiar sztachety jest podany w centrymetrach, a długość płotu w metrach\n",
    "3. zignoruj odstępy między sztachetami"
   ]
  },
  {
   "cell_type": "code",
   "execution_count": null,
   "metadata": {},
   "outputs": [],
   "source": []
  }
 ],
 "metadata": {
  "kernelspec": {
   "display_name": "Python 3",
   "language": "python",
   "name": "python3"
  },
  "language_info": {
   "codemirror_mode": {
    "name": "ipython",
    "version": 3
   },
   "file_extension": ".py",
   "mimetype": "text/x-python",
   "name": "python",
   "nbconvert_exporter": "python",
   "pygments_lexer": "ipython3",
   "version": "3.7.5"
  }
 },
 "nbformat": 4,
 "nbformat_minor": 4
}
