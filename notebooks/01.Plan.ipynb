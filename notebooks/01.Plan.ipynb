{
 "cells": [
  {
   "cell_type": "markdown",
   "metadata": {},
   "source": [
    "1. Omówienie planu\n",
    "2. Kim jesteśmy?\n",
    "3. O pythonie - historia i nasze projekty\n",
    "4. Czego się nauczycie po naszym kursie? \n",
    " - pokazanie kalkulatora i żółwika\n",
    "5. Wprowadzenie do środowiska\n",
    "6. Kurs zmiennych + zadanko z liczeniem podatku VAT\n",
    "7. Kurs warunków + zadanko z kalkulatorem zniżek PKP\n",
    "8. Kurs pętli i żółwika + zadanko z żółwikiem"
   ]
  },
  {
   "cell_type": "code",
   "execution_count": null,
   "metadata": {},
   "outputs": [],
   "source": []
  }
 ],
 "metadata": {
  "kernelspec": {
   "display_name": "Python 3",
   "language": "python",
   "name": "python3"
  },
  "language_info": {
   "codemirror_mode": {
    "name": "ipython",
    "version": 3
   },
   "file_extension": ".py",
   "mimetype": "text/x-python",
   "name": "python",
   "nbconvert_exporter": "python",
   "pygments_lexer": "ipython3",
   "version": "3.6.9"
  }
 },
 "nbformat": 4,
 "nbformat_minor": 4
}
