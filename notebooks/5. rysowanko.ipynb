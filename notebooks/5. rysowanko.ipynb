{
 "cells": [
  {
   "cell_type": "code",
   "execution_count": 1,
   "metadata": {},
   "outputs": [
    {
     "data": {
      "application/vnd.jupyter.widget-view+json": {
       "model_id": "998527286057428b95c12122d0a1215d",
       "version_major": 2,
       "version_minor": 0
      },
      "text/plain": [
       "Turtle()"
      ]
     },
     "metadata": {},
     "output_type": "display_data"
    }
   ],
   "source": [
    "from turtle import turtle\n",
    "turtle"
   ]
  },
  {
   "cell_type": "code",
   "execution_count": 2,
   "metadata": {},
   "outputs": [],
   "source": [
    "turtle.reset()\n",
    "\n",
    "turtle.forward(100)"
   ]
  },
  {
   "cell_type": "code",
   "execution_count": 3,
   "metadata": {},
   "outputs": [],
   "source": [
    "turtle.reset()\n",
    "\n",
    "turtle.back(100)"
   ]
  },
  {
   "cell_type": "code",
   "execution_count": 4,
   "metadata": {},
   "outputs": [],
   "source": [
    "turtle.reset()\n",
    "\n",
    "turtle.forward(100)\n",
    "turtle.right(90)\n",
    "turtle.forward(100)"
   ]
  },
  {
   "cell_type": "code",
   "execution_count": 5,
   "metadata": {},
   "outputs": [],
   "source": [
    "turtle.reset()\n",
    "\n",
    "turtle.forward(100)\n",
    "turtle.left(90)\n",
    "turtle.forward(100)"
   ]
  },
  {
   "cell_type": "code",
   "execution_count": 6,
   "metadata": {},
   "outputs": [],
   "source": [
    "turtle.reset()\n",
    "\n",
    "turtle.goto(-100, -100)\n",
    "turtle.forward(100)"
   ]
  },
  {
   "cell_type": "code",
   "execution_count": 7,
   "metadata": {},
   "outputs": [],
   "source": [
    "turtle.reset()\n",
    "\n",
    "turtle.forward(50)\n",
    "turtle.penup()\n",
    "turtle.forward(50)\n",
    "turtle.pendown()\n",
    "turtle.forward(50)"
   ]
  },
  {
   "cell_type": "code",
   "execution_count": 8,
   "metadata": {},
   "outputs": [],
   "source": [
    "turtle.reset()\n",
    "for i in range(4):\n",
    "    turtle.forward(100)\n",
    "    turtle.right(90)"
   ]
  },
  {
   "cell_type": "code",
   "execution_count": 9,
   "metadata": {},
   "outputs": [],
   "source": [
    "turtle.reset()\n",
    "turtle.goto(-100, -100)\n",
    "for i in range(3):\n",
    "    turtle.forward(100)\n",
    "    turtle.right(120)"
   ]
  },
  {
   "cell_type": "code",
   "execution_count": 10,
   "metadata": {},
   "outputs": [],
   "source": [
    "def draw_polygon(size, sides):\n",
    "    angle = 360 / sides\n",
    "    for i in range(sides):\n",
    "        turtle.forward(size)\n",
    "        turtle.right(angle)"
   ]
  },
  {
   "cell_type": "code",
   "execution_count": 36,
   "metadata": {},
   "outputs": [],
   "source": [
    "turtle.reset()\n",
    "\n",
    "turtle.goto(-100, -100)\n",
    "turtle.pencolor(\"red\")\n",
    "draw_polygon(50, 3)\n",
    "\n",
    "turtle.goto(-100, 0)\n",
    "turtle.pencolor(\"yellow\")\n",
    "draw_polygon(50, 4)\n",
    "\n",
    "turtle.goto(-100, 100)\n",
    "turtle.pencolor(\"green\")\n",
    "draw_polygon(30, 6)"
   ]
  },
  {
   "cell_type": "code",
   "execution_count": 37,
   "metadata": {},
   "outputs": [],
   "source": [
    "turtle.reset()\n",
    "\n",
    "turtle.goto(-100, 0)\n",
    "draw_polygon(13, 50)"
   ]
  },
  {
   "cell_type": "code",
   "execution_count": 13,
   "metadata": {},
   "outputs": [],
   "source": [
    "# zadanie easy - narysuj litere Z\n",
    "# zadanie mid - narysuj litere A\n",
    "# zadanie hard - narysuj znak %"
   ]
  },
  {
   "cell_type": "code",
   "execution_count": 14,
   "metadata": {},
   "outputs": [],
   "source": [
    "def draw_spiral(n, size, span):\n",
    "    for i in range(n):\n",
    "        size -= span\n",
    "        turtle.forward(size)\n",
    "        turtle.right(90)\n",
    "\n",
    "turtle.reset()        \n",
    "turtle.goto(-100, -100)\n",
    "draw_spiral(20, 200, 10)"
   ]
  },
  {
   "cell_type": "code",
   "execution_count": 35,
   "metadata": {},
   "outputs": [],
   "source": [
    "def draw_spiral(n, size, span):\n",
    "    turtle.forward(size)\n",
    "    turtle.right(90)\n",
    "    if n > 0:\n",
    "        draw_spiral(n - 1, size - span, span)\n",
    "\n",
    "turtle.reset()        \n",
    "turtle.goto(-100, -100)\n",
    "draw_spiral(20, 200, 10)"
   ]
  },
  {
   "cell_type": "code",
   "execution_count": 44,
   "metadata": {},
   "outputs": [],
   "source": [
    "def draw_spiral(n, size, span):\n",
    "    turtle.forward(size)\n",
    "    turtle.right(90)\n",
    "    if n > 0:\n",
    "        draw_spiral(n - 1, size - span, span)\n",
    "\n",
    "turtle.reset()        \n",
    "turtle.goto(-100, -100)\n",
    "draw_spiral(20, 200, 10)"
   ]
  },
  {
   "cell_type": "code",
   "execution_count": 45,
   "metadata": {},
   "outputs": [],
   "source": [
    "def draw_squares(n, size, span):\n",
    "    draw_polygon(size, 4)\n",
    "    if n > 0:\n",
    "        draw_squares(n - 1, size - span, span)  \n",
    "        \n",
    "turtle.reset()        \n",
    "turtle.goto(0, 0)\n",
    "draw_squares(5, 100, 10)"
   ]
  },
  {
   "cell_type": "code",
   "execution_count": 46,
   "metadata": {},
   "outputs": [],
   "source": [
    "def koch(n, size):\n",
    "    if n > 0:\n",
    "        koch(n - 1, size / 3)\n",
    "        turtle.left(60)\n",
    "        koch(n - 1, size / 3)\n",
    "        turtle.right(120)\n",
    "        koch(n - 1, size / 3)\n",
    "        turtle.left(60)\n",
    "        koch(n - 1, size / 3)\n",
    "    else:\n",
    "        turtle.forward(size)\n",
    "\n",
    "turtle.reset()       \n",
    "turtle.goto(-100, 0)\n",
    "turtle.right(90)\n",
    "\n",
    "for i in range(3):\n",
    "    koch(3, 200)\n",
    "    turtle.right(120)"
   ]
  }
 ],
 "metadata": {
  "kernelspec": {
   "display_name": "Python 3",
   "language": "python",
   "name": "python3"
  },
  "language_info": {
   "codemirror_mode": {
    "name": "ipython",
    "version": 3
   },
   "file_extension": ".py",
   "mimetype": "text/x-python",
   "name": "python",
   "nbconvert_exporter": "python",
   "pygments_lexer": "ipython3",
   "version": "3.7.5"
  }
 },
 "nbformat": 4,
 "nbformat_minor": 4
}
